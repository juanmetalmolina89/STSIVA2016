{
 "cells": [
  {
   "cell_type": "markdown",
   "metadata": {},
   "source": [
    "# Baseline Comparison"
   ]
  },
  {
   "cell_type": "markdown",
   "metadata": {},
   "source": [
    "## Read Data"
   ]
  },
  {
   "cell_type": "code",
   "execution_count": 77,
   "metadata": {
    "collapsed": true
   },
   "outputs": [],
   "source": [
    "from os import getcwd\n",
    "from os.path import dirname, join\n",
    "from pandas import read_csv"
   ]
  },
  {
   "cell_type": "code",
   "execution_count": 294,
   "metadata": {
    "collapsed": false
   },
   "outputs": [],
   "source": [
    "#wd = read_csv(join(dirname(getcwd()), \"Data\", \"LC80080582015052LGN00_NoBruma_Atmosphericparameters.csv\"), sep='\\t')\n",
    "wd = read_csv(join(dirname(getcwd()), \"Data\", \"LT40080581989356XXX02_NoBruma_Atmospheric_parameters.csv\"), sep='\\t')"
   ]
  },
  {
   "cell_type": "code",
   "execution_count": 295,
   "metadata": {
    "collapsed": false
   },
   "outputs": [],
   "source": [
    "#bd = read_csv(join(dirname(getcwd()), \"Data\", \"LC80080582015052LGN00_Bruma_Atmosphericparameters.csv\"), sep='\\t')\n",
    "bd = read_csv(join(dirname(getcwd()), \"Data\", \"LT40080581989356XXX02_Bruma_Atmospheric_parameters.csv\"), sep='\\t')"
   ]
  },
  {
   "cell_type": "markdown",
   "metadata": {},
   "source": [
    "## Columns names"
   ]
  },
  {
   "cell_type": "code",
   "execution_count": 296,
   "metadata": {
    "collapsed": false
   },
   "outputs": [
    {
     "name": "stdout",
     "output_type": "stream",
     "text": [
      "Index([u'atmoProfile', u'aeroProfile', u'GroundReflectance', u'AOT', u'band',\n",
      "       u'aX', u'bX', u'cX', u'MeanSRRAD', u'MaxSRRAD', u'MinSRRAD',\n",
      "       u'StdSRRAD', u'MedianSRRAD', u'MeanSRTOA', u'MaxSRTOA', u'MinSRTOA',\n",
      "       u'StdSRTOA', u'MedianSRTOA', u'MeanSRRADG', u'MaxSRRADG', u'MinSRRADG',\n",
      "       u'StdSRRADG', u'MedianSRRADG', u'MeanSRTOAG', u'MaxSRTOAG',\n",
      "       u'MinSRTOAG', u'StdSRTOAG', u'MedianSRTOAG'],\n",
      "      dtype='object')\n"
     ]
    }
   ],
   "source": [
    "print(wd.columns)"
   ]
  },
  {
   "cell_type": "markdown",
   "metadata": {},
   "source": [
    "## Distances"
   ]
  },
  {
   "cell_type": "code",
   "execution_count": 297,
   "metadata": {
    "collapsed": true
   },
   "outputs": [],
   "source": [
    "from numpy import array, sqrt"
   ]
  },
  {
   "cell_type": "code",
   "execution_count": 298,
   "metadata": {
    "collapsed": true
   },
   "outputs": [],
   "source": [
    "num_bands = 6"
   ]
  },
  {
   "cell_type": "code",
   "execution_count": 299,
   "metadata": {
    "collapsed": false
   },
   "outputs": [],
   "source": [
    "results = []\n",
    "for i in range(0, len(bd), num_bands):\n",
    "    vect_pow = []\n",
    "    vect_abs = []\n",
    "    for j in range(num_bands):\n",
    "        wd_band = wd.iloc[i + j]\n",
    "        bd_band = bd.iloc[i + j]\n",
    "        ## Bands normalization\n",
    "        norm_wd_band = (wd_band[\"MeanSRRAD\"] - wd_band[\"MinSRRADG\"]) / (wd_band[\"MaxSRRADG\"] - wd_band[\"MinSRRADG\"])\n",
    "        norm_bd_band = (bd_band[\"MeanSRRAD\"] - wd_band[\"MinSRRADG\"]) / (wd_band[\"MaxSRRADG\"] - wd_band[\"MinSRRADG\"])\n",
    "        ## Differences calculations\n",
    "        vect_pow.append((norm_wd_band - norm_bd_band) ** 2)\n",
    "        vect_abs.append(abs(norm_wd_band - norm_bd_band))\n",
    "    eu = sqrt(sum(vect_pow))\n",
    "    mh = sum(vect_abs)\n",
    "    results.append((eu, mh))\n",
    "results = array(results)"
   ]
  },
  {
   "cell_type": "markdown",
   "metadata": {},
   "source": [
    "## Minimums"
   ]
  },
  {
   "cell_type": "code",
   "execution_count": 300,
   "metadata": {
    "collapsed": true
   },
   "outputs": [],
   "source": [
    "from numpy import amin, argmin"
   ]
  },
  {
   "cell_type": "code",
   "execution_count": 301,
   "metadata": {
    "collapsed": false
   },
   "outputs": [
    {
     "name": "stdout",
     "output_type": "stream",
     "text": [
      "[ 0.0296525   0.05144064]\n"
     ]
    }
   ],
   "source": [
    "print(amin(results, axis=0))"
   ]
  },
  {
   "cell_type": "code",
   "execution_count": 302,
   "metadata": {
    "collapsed": false
   },
   "outputs": [
    {
     "name": "stdout",
     "output_type": "stream",
     "text": [
      "[1767  846]\n"
     ]
    }
   ],
   "source": [
    "print(argmin(results, axis=0))"
   ]
  },
  {
   "cell_type": "markdown",
   "metadata": {},
   "source": [
    "## Maximums"
   ]
  },
  {
   "cell_type": "code",
   "execution_count": 303,
   "metadata": {
    "collapsed": true
   },
   "outputs": [],
   "source": [
    "from numpy import amax, argmax"
   ]
  },
  {
   "cell_type": "code",
   "execution_count": 304,
   "metadata": {
    "collapsed": false
   },
   "outputs": [
    {
     "name": "stdout",
     "output_type": "stream",
     "text": [
      "[ 0.07564864  0.16035654]\n"
     ]
    }
   ],
   "source": [
    "print(amax(results, axis=0))"
   ]
  },
  {
   "cell_type": "code",
   "execution_count": 305,
   "metadata": {
    "collapsed": false
   },
   "outputs": [
    {
     "name": "stdout",
     "output_type": "stream",
     "text": [
      "[1191  267]\n"
     ]
    }
   ],
   "source": [
    "print(argmax(results, axis=0))"
   ]
  },
  {
   "cell_type": "markdown",
   "metadata": {},
   "source": [
    "## Sort"
   ]
  },
  {
   "cell_type": "code",
   "execution_count": 335,
   "metadata": {
    "collapsed": true
   },
   "outputs": [],
   "source": [
    "from numpy import sort, where"
   ]
  },
  {
   "cell_type": "code",
   "execution_count": 336,
   "metadata": {
    "collapsed": false
   },
   "outputs": [],
   "source": [
    "sorted_res = sort(results, axis=0)"
   ]
  },
  {
   "cell_type": "code",
   "execution_count": 337,
   "metadata": {
    "collapsed": true
   },
   "outputs": [],
   "source": [
    "half_value = len(sorted_res) / 2"
   ]
  },
  {
   "cell_type": "code",
   "execution_count": 338,
   "metadata": {
    "collapsed": false
   },
   "outputs": [
    {
     "name": "stdout",
     "output_type": "stream",
     "text": [
      "924\n"
     ]
    }
   ],
   "source": [
    "print(half_value)"
   ]
  },
  {
   "cell_type": "code",
   "execution_count": 339,
   "metadata": {
    "collapsed": false
   },
   "outputs": [
    {
     "name": "stdout",
     "output_type": "stream",
     "text": [
      "[ 0.05776908  0.1360597 ]\n"
     ]
    }
   ],
   "source": [
    "print(sorted_res[half_value])"
   ]
  },
  {
   "cell_type": "code",
   "execution_count": 342,
   "metadata": {
    "collapsed": false
   },
   "outputs": [
    {
     "name": "stdout",
     "output_type": "stream",
     "text": [
      "(array([1809, 1820, 1831, 1842]), array([0, 0, 0, 0]))\n"
     ]
    }
   ],
   "source": [
    "print(where(results == sorted_res[half_value][0]))"
   ]
  },
  {
   "cell_type": "markdown",
   "metadata": {},
   "source": [
    "## Parameter Configuration"
   ]
  },
  {
   "cell_type": "code",
   "execution_count": 355,
   "metadata": {
    "collapsed": true
   },
   "outputs": [],
   "source": [
    "index_config = 1842"
   ]
  },
  {
   "cell_type": "code",
   "execution_count": 356,
   "metadata": {
    "collapsed": true
   },
   "outputs": [],
   "source": [
    "indexed_wd = wd.iloc[index_config * num_bands : index_config * num_bands + num_bands]"
   ]
  },
  {
   "cell_type": "code",
   "execution_count": 357,
   "metadata": {
    "collapsed": false
   },
   "outputs": [],
   "source": [
    "indexed_bd = bd.iloc[index_config * num_bands : index_config * num_bands + num_bands]"
   ]
  },
  {
   "cell_type": "code",
   "execution_count": 358,
   "metadata": {
    "collapsed": false
   },
   "outputs": [
    {
     "name": "stdout",
     "output_type": "stream",
     "text": [
      "       atmoProfile  aeroProfile  GroundReflectance  AOT  band       aX  \\\n",
      "11052            0            7                 -4  0.5     1  0.00272   \n",
      "11053            0            7                 -4  0.5     2  0.00265   \n",
      "11054            0            7                 -4  0.5     3  0.00296   \n",
      "11055            0            7                 -4  0.5     4  0.00420   \n",
      "11056            0            7                 -4  0.5     5  0.01940   \n",
      "11057            0            7                 -4  0.5     6  0.05160   \n",
      "\n",
      "            bX       cX   MeanSRRAD  MaxSRRAD      ...       MeanSRRADG  \\\n",
      "11052  0.11714  0.19406    0.944173       1.0      ...        47.795600   \n",
      "11053  0.06659  0.14887    8.620398      26.0      ...        72.626588   \n",
      "11054  0.04261  0.12231    5.013142      17.0      ...        70.232331   \n",
      "11055  0.02436  0.09706  235.979907     348.0      ...       202.028970   \n",
      "11056  0.00759  0.05191  103.431302     152.0      ...       121.222287   \n",
      "11057  0.00556  0.03633   33.383187      59.0      ...        66.370241   \n",
      "\n",
      "       MaxSRRADG  MinSRRADG   StdSRRADG  MedianSRRADG   MeanSRTOAG  MaxSRTOAG  \\\n",
      "11052      327.0        0.0   98.188589           1.0   174.832433      753.0   \n",
      "11053      735.0        0.0  159.217932           8.0   209.408008     1531.0   \n",
      "11054      654.0        0.0  151.733056           5.0   221.101997     1598.0   \n",
      "11055      832.0        0.0  182.888243         244.0   782.587973     2749.0   \n",
      "11056      584.0        0.0  123.525352         109.0  2000.061034     7359.0   \n",
      "11057      727.0        0.0   94.108341          35.0  2738.476061    16147.0   \n",
      "\n",
      "       MinSRTOAG    StdSRTOAG  MedianSRTOAG  \n",
      "11052        0.0   217.253564         115.0  \n",
      "11053        0.0   334.435400         110.0  \n",
      "11054        0.0   372.286631          93.0  \n",
      "11055        0.0   650.793234         934.0  \n",
      "11056        0.0  1772.019383        2025.0  \n",
      "11057        0.0  3038.722953        2094.0  \n",
      "\n",
      "[6 rows x 28 columns]\n"
     ]
    }
   ],
   "source": [
    "print(indexed_wd)"
   ]
  },
  {
   "cell_type": "markdown",
   "metadata": {},
   "source": [
    "## Plot Signature Comparison"
   ]
  },
  {
   "cell_type": "code",
   "execution_count": 359,
   "metadata": {
    "collapsed": true
   },
   "outputs": [],
   "source": [
    "%matplotlib inline\n",
    "\n",
    "from matplotlib.pyplot import plot, show"
   ]
  },
  {
   "cell_type": "code",
   "execution_count": 360,
   "metadata": {
    "collapsed": false
   },
   "outputs": [
    {
     "data": {
      "text/plain": [
       "[<matplotlib.lines.Line2D at 0x1127fa050>,\n",
       " <matplotlib.lines.Line2D at 0x1146c1110>]"
      ]
     },
     "execution_count": 360,
     "metadata": {},
     "output_type": "execute_result"
    },
    {
     "data": {
      "image/png": "[encoded data removed]",
      "text/plain": [
       "<matplotlib.figure.Figure at 0x1127e9510>"
      ]
     },
     "metadata": {},
     "output_type": "display_data"
    }
   ],
   "source": [
    "norm_wd_bands = []\n",
    "norm_bd_bands = []\n",
    "for i in range(index_config * num_bands, index_config * num_bands + num_bands):\n",
    "    wd_band = wd.iloc[i]\n",
    "    bd_band = bd.iloc[i]\n",
    "    ## Bands normalization\n",
    "    norm_wd_bands.append((wd_band[\"MeanSRRAD\"] - wd_band[\"MinSRRADG\"]) / (wd_band[\"MaxSRRADG\"] - wd_band[\"MinSRRADG\"]))\n",
    "    norm_bd_bands.append((bd_band[\"MeanSRRAD\"] - wd_band[\"MinSRRADG\"]) / (wd_band[\"MaxSRRADG\"] - wd_band[\"MinSRRADG\"]))\n",
    "plot(norm_wd_bands, \"g\", norm_bd_bands, \"b\")"
   ]
  },
  {
   "cell_type": "code",
   "execution_count": null,
   "metadata": {
    "collapsed": true
   },
   "outputs": [],
   "source": []
  }
 ],
 "metadata": {
  "kernelspec": {
   "display_name": "Python 2",
   "language": "python",
   "name": "python2"
  },
  "language_info": {
   "codemirror_mode": {
    "name": "ipython",
    "version": 2
   },
   "file_extension": ".py",
   "mimetype": "text/x-python",
   "name": "python",
   "nbconvert_exporter": "python",
   "pygments_lexer": "ipython2",
   "version": "2.7.11"
  }
 },
 "nbformat": 4,
 "nbformat_minor": 0
}
